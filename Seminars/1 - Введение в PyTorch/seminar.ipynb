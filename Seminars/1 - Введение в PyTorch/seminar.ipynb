{
 "cells": [
  {
   "cell_type": "markdown",
   "id": "3456309a",
   "metadata": {},
   "source": [
    "# Вопросы по лекции для закрепления материала\n",
    "\n",
    "* В чем состоит задача языкового моделирования?\n",
    "* Как можно использовать n-граммы для языкового моделирования?\n",
    "* Какие виды токенизации вы знаете?\n",
    "* Какие стратегии генерации текстов вы помните?\n",
    "\n",
    "# Установка PyTorch"
   ]
  },
  {
   "cell_type": "code",
   "execution_count": null,
   "id": "45ab16af",
   "metadata": {},
   "outputs": [],
   "source": [
    "# ! pip install torch torchvision torchaudio"
   ]
  },
  {
   "cell_type": "markdown",
   "id": "7e521abb",
   "metadata": {},
   "source": [
    "См. [здесь](https://pytorch.org/get-started/locally/), как установить PyTorch с поддержкой GPU для различных операционных систем."
   ]
  },
  {
   "cell_type": "markdown",
   "id": "a3675cff",
   "metadata": {},
   "source": [
    "### Проверяем, что все работает"
   ]
  },
  {
   "cell_type": "code",
   "execution_count": 3,
   "id": "43e9d1ff",
   "metadata": {},
   "outputs": [],
   "source": [
    "import torch"
   ]
  },
  {
   "cell_type": "code",
   "execution_count": 2,
   "id": "2bc05abf",
   "metadata": {},
   "outputs": [
    {
     "name": "stdout",
     "output_type": "stream",
     "text": [
      "tensor([1, 2, 3])\n"
     ]
    }
   ],
   "source": [
    "print(torch.tensor([1, 2, 3]))"
   ]
  },
  {
   "cell_type": "markdown",
   "id": "2038fe5e",
   "metadata": {},
   "source": [
    "# Работа с основными объектами PyTorch\n",
    "\n",
    "Познакомимся с основными объектами в PyTorch: тензоры, оптимизаторы, модули для создания нейросетей, классы для работы с данными.\n",
    "\n",
    "## Тензоры\n",
    "\n",
    "По сути, тензоры - это многомерными массивами. Как вы увидите ниже, работа с тезорами в PyTorch очень похожа на работу с numpy-массивами."
   ]
  },
  {
   "cell_type": "code",
   "execution_count": 3,
   "id": "b270d6d4",
   "metadata": {},
   "outputs": [],
   "source": [
    "import torch"
   ]
  },
  {
   "cell_type": "markdown",
   "id": "818ac5f3",
   "metadata": {},
   "source": [
    "### Создание тензоров\n",
    "\n",
    "Создать вектор из данных:"
   ]
  },
  {
   "cell_type": "code",
   "execution_count": 4,
   "id": "b97fbdaa",
   "metadata": {},
   "outputs": [
    {
     "name": "stdout",
     "output_type": "stream",
     "text": [
      "tensor([1.0000, 2.0000, 3.0000, 4.5000])\n"
     ]
    }
   ],
   "source": [
    "print(torch.tensor([1, 2, 3, 4.5]))"
   ]
  },
  {
   "cell_type": "markdown",
   "id": "edf43dc8",
   "metadata": {},
   "source": [
    "Создать матрицу из данных:"
   ]
  },
  {
   "cell_type": "code",
   "execution_count": 5,
   "id": "22cf4be5",
   "metadata": {},
   "outputs": [
    {
     "name": "stdout",
     "output_type": "stream",
     "text": [
      "tensor([[1, 2, 3],\n",
      "        [4, 5, 6]])\n"
     ]
    }
   ],
   "source": [
    "print(torch.tensor([[1, 2, 3], [4, 5, 6]]))"
   ]
  },
  {
   "cell_type": "markdown",
   "id": "4ba33c55",
   "metadata": {},
   "source": [
    "Создать случайную матрицу:"
   ]
  },
  {
   "cell_type": "code",
   "execution_count": 6,
   "id": "368b2e1d",
   "metadata": {},
   "outputs": [
    {
     "name": "stdout",
     "output_type": "stream",
     "text": [
      "tensor([[0.5858, 0.1632, 0.1442, 0.5516, 0.3612, 0.4089],\n",
      "        [0.0033, 0.5934, 0.1109, 0.9842, 0.0337, 0.8954],\n",
      "        [0.8843, 0.6390, 0.5203, 0.2810, 0.8716, 0.0942],\n",
      "        [0.2621, 0.0751, 0.2559, 0.2447, 0.1141, 0.4097],\n",
      "        [0.0087, 0.7388, 0.7737, 0.5229, 0.2065, 0.8234]])\n"
     ]
    }
   ],
   "source": [
    "print(torch.rand(5, 6))"
   ]
  },
  {
   "cell_type": "markdown",
   "id": "c72022ab",
   "metadata": {},
   "source": [
    "Создать тензор чисел от 0 до 9 включительно:"
   ]
  },
  {
   "cell_type": "code",
   "execution_count": 7,
   "id": "a8b9d3c0",
   "metadata": {
    "scrolled": true
   },
   "outputs": [
    {
     "name": "stdout",
     "output_type": "stream",
     "text": [
      "tensor([0, 1, 2, 3, 4, 5, 6, 7, 8, 9])\n"
     ]
    }
   ],
   "source": [
    "print(torch.arange(10))"
   ]
  },
  {
   "cell_type": "markdown",
   "id": "f76e0569",
   "metadata": {},
   "source": [
    "### Атрибуты тензоров"
   ]
  },
  {
   "cell_type": "code",
   "execution_count": 8,
   "id": "53294328",
   "metadata": {},
   "outputs": [
    {
     "name": "stdout",
     "output_type": "stream",
     "text": [
      "tensor([[1, 2, 3],\n",
      "        [4, 5, 6]])\n"
     ]
    }
   ],
   "source": [
    "a = torch.tensor([[1, 2, 3],\n",
    "                  [4, 5, 6]])\n",
    "print(a)"
   ]
  },
  {
   "cell_type": "markdown",
   "id": "dc0874a1",
   "metadata": {},
   "source": [
    "Размерность:"
   ]
  },
  {
   "cell_type": "code",
   "execution_count": 9,
   "id": "f6405e51",
   "metadata": {},
   "outputs": [
    {
     "name": "stdout",
     "output_type": "stream",
     "text": [
      "torch.Size([2, 3])\n"
     ]
    }
   ],
   "source": [
    "print(a.shape)"
   ]
  },
  {
   "cell_type": "markdown",
   "id": "e1a67e76",
   "metadata": {},
   "source": [
    "Тип данных:"
   ]
  },
  {
   "cell_type": "code",
   "execution_count": 10,
   "id": "ba67b957",
   "metadata": {},
   "outputs": [
    {
     "name": "stdout",
     "output_type": "stream",
     "text": [
      "torch.int64\n"
     ]
    }
   ],
   "source": [
    "print(a.dtype)"
   ]
  },
  {
   "cell_type": "markdown",
   "id": "e55af10f",
   "metadata": {},
   "source": [
    "Устройство, на котором расположен тензор:"
   ]
  },
  {
   "cell_type": "code",
   "execution_count": 11,
   "id": "810ff7f3",
   "metadata": {},
   "outputs": [
    {
     "name": "stdout",
     "output_type": "stream",
     "text": [
      "cpu\n"
     ]
    }
   ],
   "source": [
    "print(a.device)"
   ]
  },
  {
   "cell_type": "markdown",
   "id": "8fa26a05",
   "metadata": {},
   "source": [
    "### Преобразования тензоров"
   ]
  },
  {
   "cell_type": "code",
   "execution_count": 12,
   "id": "e1a088e6",
   "metadata": {},
   "outputs": [
    {
     "name": "stdout",
     "output_type": "stream",
     "text": [
      "tensor([[0.3445, 0.1136, 0.9097, 0.8621, 0.7495, 0.4584],\n",
      "        [0.8968, 0.7642, 0.5834, 0.0418, 0.7872, 0.7272]])\n"
     ]
    }
   ],
   "source": [
    "A = torch.rand(2, 6)\n",
    "print(A)"
   ]
  },
  {
   "cell_type": "markdown",
   "id": "2aef0e20",
   "metadata": {},
   "source": [
    "Изменить размерность тензора:"
   ]
  },
  {
   "cell_type": "code",
   "execution_count": 13,
   "id": "db3e4a97",
   "metadata": {},
   "outputs": [
    {
     "name": "stdout",
     "output_type": "stream",
     "text": [
      "tensor([[0.3445, 0.1136, 0.9097, 0.8621],\n",
      "        [0.7495, 0.4584, 0.8968, 0.7642],\n",
      "        [0.5834, 0.0418, 0.7872, 0.7272]])\n"
     ]
    }
   ],
   "source": [
    "print(A.reshape(3, 4))"
   ]
  },
  {
   "cell_type": "markdown",
   "id": "cd6a79e1",
   "metadata": {},
   "source": [
    "Превратить тензор в одномерный массив:"
   ]
  },
  {
   "cell_type": "code",
   "execution_count": 14,
   "id": "1a89ad3d",
   "metadata": {},
   "outputs": [
    {
     "name": "stdout",
     "output_type": "stream",
     "text": [
      "tensor([0.3445, 0.1136, 0.9097, 0.8621, 0.7495, 0.4584, 0.8968, 0.7642, 0.5834,\n",
      "        0.0418, 0.7872, 0.7272])\n"
     ]
    }
   ],
   "source": [
    "print(A.flatten())"
   ]
  },
  {
   "cell_type": "markdown",
   "id": "322cdbf8",
   "metadata": {},
   "source": [
    "Транспонировать матрицу:"
   ]
  },
  {
   "cell_type": "code",
   "execution_count": 15,
   "id": "a7a772fe",
   "metadata": {},
   "outputs": [
    {
     "name": "stdout",
     "output_type": "stream",
     "text": [
      "tensor([[0.3445, 0.8968],\n",
      "        [0.1136, 0.7642],\n",
      "        [0.9097, 0.5834],\n",
      "        [0.8621, 0.0418],\n",
      "        [0.7495, 0.7872],\n",
      "        [0.4584, 0.7272]])\n"
     ]
    }
   ],
   "source": [
    "print(A.T)"
   ]
  },
  {
   "cell_type": "markdown",
   "id": "f815cae3",
   "metadata": {},
   "source": [
    "Для тензоров более высокой размерности нужно указать, какие измерения переставить."
   ]
  },
  {
   "cell_type": "code",
   "execution_count": 16,
   "id": "d80e215b",
   "metadata": {},
   "outputs": [
    {
     "name": "stdout",
     "output_type": "stream",
     "text": [
      "tensor([[0.3445, 0.8968],\n",
      "        [0.1136, 0.7642],\n",
      "        [0.9097, 0.5834],\n",
      "        [0.8621, 0.0418],\n",
      "        [0.7495, 0.7872],\n",
      "        [0.4584, 0.7272]])\n"
     ]
    }
   ],
   "source": [
    "print(A.transpose(0, 1))"
   ]
  },
  {
   "cell_type": "markdown",
   "id": "b3a10b46",
   "metadata": {},
   "source": [
    "### Операции с тензорами одинаковой размерности"
   ]
  },
  {
   "cell_type": "code",
   "execution_count": 17,
   "id": "be7296f0",
   "metadata": {},
   "outputs": [
    {
     "name": "stdout",
     "output_type": "stream",
     "text": [
      "tensor([1, 2, 3])\n",
      "tensor([-1,  0,  1])\n",
      "tensor([[ 0,  1,  2],\n",
      "        [-1,  0,  1]])\n",
      "tensor([[1, 2, 3],\n",
      "        [7, 0, 5]])\n"
     ]
    }
   ],
   "source": [
    "a = torch.tensor([1, 2, 3])\n",
    "b = torch.tensor([-1, 0, 1])\n",
    "A = torch.tensor([[ 0, 1, 2], \n",
    "                  [-1, 0, 1]])\n",
    "B = torch.tensor([[1, 2, 3],\n",
    "                  [7, 0, 5]])\n",
    "print(a)\n",
    "print(b)\n",
    "print(A)\n",
    "print(B)"
   ]
  },
  {
   "cell_type": "markdown",
   "id": "97123f2b",
   "metadata": {},
   "source": [
    "Покомпонентное сложение:"
   ]
  },
  {
   "cell_type": "code",
   "execution_count": 18,
   "id": "b5c13c50",
   "metadata": {},
   "outputs": [
    {
     "name": "stdout",
     "output_type": "stream",
     "text": [
      "tensor([0, 2, 4])\n",
      "tensor([[1, 3, 5],\n",
      "        [6, 0, 6]])\n"
     ]
    }
   ],
   "source": [
    "print(a + b)\n",
    "print(A + B)"
   ]
  },
  {
   "cell_type": "markdown",
   "id": "5e688d70",
   "metadata": {},
   "source": [
    "Покомпонентное умножение:"
   ]
  },
  {
   "cell_type": "code",
   "execution_count": 19,
   "id": "7ae954bb",
   "metadata": {},
   "outputs": [
    {
     "name": "stdout",
     "output_type": "stream",
     "text": [
      "tensor([-1,  0,  3])\n",
      "tensor([[ 0,  2,  6],\n",
      "        [-7,  0,  5]])\n"
     ]
    }
   ],
   "source": [
    "print(a * b)\n",
    "print(A * B)"
   ]
  },
  {
   "cell_type": "markdown",
   "id": "4abaf735",
   "metadata": {},
   "source": [
    "Покомпонентное возведение в степень:"
   ]
  },
  {
   "cell_type": "code",
   "execution_count": 21,
   "id": "cbcdfea2",
   "metadata": {},
   "outputs": [
    {
     "name": "stdout",
     "output_type": "stream",
     "text": [
      "tensor([1, 1, 3])\n",
      "tensor([[ 0,  1,  8],\n",
      "        [-1,  1,  1]])\n"
     ]
    }
   ],
   "source": [
    "print(a**b)\n",
    "print(A ** B)"
   ]
  },
  {
   "cell_type": "markdown",
   "id": "2a93d522",
   "metadata": {},
   "source": [
    "Скалярное произведение:"
   ]
  },
  {
   "cell_type": "code",
   "execution_count": 22,
   "id": "6123c855",
   "metadata": {},
   "outputs": [
    {
     "name": "stdout",
     "output_type": "stream",
     "text": [
      "tensor(2)\n"
     ]
    }
   ],
   "source": [
    "print(a @ b)"
   ]
  },
  {
   "cell_type": "markdown",
   "id": "5feb873c",
   "metadata": {},
   "source": [
    "Умножение матрицы на вектор:"
   ]
  },
  {
   "cell_type": "code",
   "execution_count": 23,
   "id": "439af96f",
   "metadata": {},
   "outputs": [
    {
     "name": "stdout",
     "output_type": "stream",
     "text": [
      "tensor([8, 2])\n"
     ]
    }
   ],
   "source": [
    "print(A @ a)"
   ]
  },
  {
   "cell_type": "markdown",
   "id": "8bb2a1cb",
   "metadata": {},
   "source": [
    "### Операции с тензорами разной размерности"
   ]
  },
  {
   "cell_type": "code",
   "execution_count": 24,
   "id": "88d05930",
   "metadata": {},
   "outputs": [
    {
     "name": "stdout",
     "output_type": "stream",
     "text": [
      "tensor([[1, 2, 3],\n",
      "        [4, 5, 6]])\n",
      "tensor([0, 1, 2])\n",
      "tensor([[0],\n",
      "        [1]])\n"
     ]
    }
   ],
   "source": [
    "A = torch.tensor([[1, 2, 3],\n",
    "                  [4, 5, 6]])\n",
    "v_row = torch.tensor([0, 1, 2])\n",
    "v_col = torch.tensor([[0], [1]])\n",
    "print(A)\n",
    "print(v_row)\n",
    "print(v_col)"
   ]
  },
  {
   "cell_type": "markdown",
   "id": "db359785",
   "metadata": {},
   "source": [
    "Прибавить к каждой строке матрицы один и тот же вектор:"
   ]
  },
  {
   "cell_type": "code",
   "execution_count": 25,
   "id": "770050fd",
   "metadata": {},
   "outputs": [
    {
     "name": "stdout",
     "output_type": "stream",
     "text": [
      "tensor([[1, 3, 5],\n",
      "        [4, 6, 8]])\n"
     ]
    }
   ],
   "source": [
    "print(A + v_row)"
   ]
  },
  {
   "cell_type": "markdown",
   "id": "2f127ba5",
   "metadata": {},
   "source": [
    "Прибавить к каждому столбцу матрицы один и тот же вектор:"
   ]
  },
  {
   "cell_type": "code",
   "execution_count": 26,
   "id": "6eaf3f3d",
   "metadata": {},
   "outputs": [
    {
     "name": "stdout",
     "output_type": "stream",
     "text": [
      "tensor([[1, 2, 3],\n",
      "        [5, 6, 7]])\n"
     ]
    }
   ],
   "source": [
    "print(A + v_col)"
   ]
  },
  {
   "cell_type": "markdown",
   "id": "e34f4c6d",
   "metadata": {},
   "source": [
    "Это частные случаи [broadcasting](https://numpy.org/doc/stable/user/basics.broadcasting.html) (обработка векторов/матриц разной размерности, как в R)"
   ]
  },
  {
   "cell_type": "markdown",
   "id": "22cb78cf",
   "metadata": {},
   "source": [
    "### Автоматическое дифференцирование\n",
    "\n",
    "![image](img/forward_backward.svg)"
   ]
  },
  {
   "cell_type": "code",
   "execution_count": 27,
   "id": "173bfe22",
   "metadata": {},
   "outputs": [
    {
     "name": "stdout",
     "output_type": "stream",
     "text": [
      "tensor([-1.,  3., -3.], requires_grad=True)\n",
      "tensor([0., 1., 2.])\n",
      "tensor(30., grad_fn=<SumBackward0>)\n"
     ]
    }
   ],
   "source": [
    "x = torch.tensor([-1.0, 3.0, -3.0], requires_grad=True)\n",
    "c = torch.tensor([0.0, 1.0, 2.0], requires_grad=False)\n",
    "L = torch.sum((x - c)**2)\n",
    "print(x)\n",
    "print(c)\n",
    "print(L)"
   ]
  },
  {
   "cell_type": "markdown",
   "id": "48f176c0",
   "metadata": {},
   "source": [
    "Считаем градиент переменной `L` по параметрам `x`:"
   ]
  },
  {
   "cell_type": "code",
   "execution_count": 28,
   "id": "9c6aba70",
   "metadata": {},
   "outputs": [],
   "source": [
    "L.backward()"
   ]
  },
  {
   "cell_type": "markdown",
   "id": "9306bff8",
   "metadata": {},
   "source": [
    "Градиент по `x`:"
   ]
  },
  {
   "cell_type": "code",
   "execution_count": 29,
   "id": "98486a6b",
   "metadata": {},
   "outputs": [
    {
     "name": "stdout",
     "output_type": "stream",
     "text": [
      "tensor([ -2.,   4., -10.])\n"
     ]
    }
   ],
   "source": [
    "print(x.grad)"
   ]
  },
  {
   "cell_type": "markdown",
   "id": "a7281fe8",
   "metadata": {},
   "source": [
    "Минимизируем `L` методом [градиентного спуска](https://en.wikipedia.org/wiki/Gradient_descent):"
   ]
  },
  {
   "cell_type": "code",
   "execution_count": 30,
   "id": "256b7f29",
   "metadata": {},
   "outputs": [
    {
     "name": "stdout",
     "output_type": "stream",
     "text": [
      "tensor(1.1369e-13, grad_fn=<SumBackward0>) tensor([-2.0370e-10,  1.0000e+00,  2.0000e+00], requires_grad=True)\n"
     ]
    }
   ],
   "source": [
    "optimizer = torch.optim.SGD(params=[x], lr=0.1)\n",
    "\n",
    "for _ in range(100):\n",
    "    optimizer.zero_grad()\n",
    "    L = torch.sum((x - c)**2)\n",
    "    L.backward()\n",
    "    optimizer.step()\n",
    "    \n",
    "L = torch.sum((x - c)**2)\n",
    "    \n",
    "print(L, x)"
   ]
  },
  {
   "cell_type": "markdown",
   "id": "3465e345",
   "metadata": {},
   "source": [
    "### Упражнение\n",
    "\n",
    "Найти градиент функции\n",
    "\n",
    "$$\n",
    "f(x) = (Ax - b)^2\n",
    "$$\n",
    "\n",
    "в точке $x_0 = (1, -1, 0)$, где\n",
    "\n",
    "$$\n",
    "A = \\begin{pmatrix}\n",
    "0 & 3 & -1\\\\\n",
    "-2 & 2 & 6\n",
    "\\end{pmatrix},\n",
    "$$\n",
    "\n",
    "$$\n",
    "b = \\begin{pmatrix}\n",
    "-1 \\\\\n",
    "2\n",
    "\\end{pmatrix}.\n",
    "$$\n",
    "\n",
    "Минимизируйте $f$ методом градиентного спуска, укажите полученное значение $x$ и соответствующее значение $f(x)$."
   ]
  },
  {
   "cell_type": "code",
   "execution_count": 36,
   "id": "12f31a40",
   "metadata": {},
   "outputs": [
    {
     "name": "stdout",
     "output_type": "stream",
     "text": [
      "tensor([ 24., -36., -68.])\n"
     ]
    }
   ],
   "source": [
    "A = torch.tensor([[0., 3., -1.], [-2., 2., 6.]])\n",
    "b = torch.tensor([-1., 2.])\n",
    "\n",
    "x = torch.tensor([1., -1., 0.], requires_grad=True)\n",
    "\n",
    "F = torch.sum((A @ x - b) ** 2)\n",
    "F.backward()\n",
    "print(x.grad)"
   ]
  },
  {
   "cell_type": "markdown",
   "id": "597b2684",
   "metadata": {},
   "source": [
    "## Упражнение\n",
    "\n",
    "Написать нахождение параметров линейной регрессии с использованием `torch`."
   ]
  },
  {
   "cell_type": "code",
   "execution_count": 37,
   "id": "2123c746",
   "metadata": {},
   "outputs": [
    {
     "data": {
      "text/plain": [
       "tensor([ 4.8729e+00, -2.7018e+00,  2.0790e+00,  1.2196e+00,  4.0525e+00,\n",
       "         1.1212e+01,  2.2317e+00,  2.3730e+00,  5.0811e+00,  7.8234e+00,\n",
       "         5.7934e+00,  8.4682e+00,  8.4895e-01,  4.2631e+00,  1.3401e+00,\n",
       "         8.8739e+00,  8.2951e+00, -1.0623e+00,  4.2502e+00,  3.3365e+00,\n",
       "         2.6657e+00,  1.2675e+00,  3.1424e+00,  7.5987e+00, -8.5811e-01,\n",
       "         2.1326e+00,  6.9270e+00, -3.8141e+00,  1.0622e+01,  8.4615e+00,\n",
       "         2.6144e+00,  7.0838e+00,  9.7129e+00,  1.1141e-01,  5.9754e+00,\n",
       "         1.0293e+01,  4.0365e-01,  6.0385e+00,  7.5058e-01,  8.7725e+00,\n",
       "         5.9385e+00,  3.8583e+00,  6.9038e+00,  9.3190e+00,  5.5917e+00,\n",
       "         7.0115e+00,  2.0618e+00,  2.5466e+00,  7.4957e+00,  1.0352e+01,\n",
       "         1.4014e+01,  7.6804e-01,  1.2594e+00, -7.2255e-01,  1.7109e+00,\n",
       "        -1.6278e+00,  7.5144e+00,  1.0528e+01,  5.0509e+00,  1.0290e+01,\n",
       "         2.1797e+00,  3.6088e+00,  9.4892e+00,  1.0132e+01,  2.3722e+00,\n",
       "         1.1651e+01,  5.3299e+00,  2.7888e+00,  2.4378e+00,  7.9656e+00,\n",
       "         9.2823e-01,  6.6793e+00,  4.0043e+00,  7.1709e+00,  5.8279e+00,\n",
       "         4.3281e+00,  1.0039e+01,  5.4879e+00,  7.9418e+00,  5.7857e+00,\n",
       "         2.5002e+00,  5.5309e+00,  5.9966e+00,  1.7761e+00,  5.6800e+00,\n",
       "         4.7599e+00,  1.1331e+01,  1.3351e+00,  4.2501e+00,  7.1743e+00,\n",
       "         5.5765e+00,  8.5279e-01, -6.4857e-01,  4.1171e+00,  4.5815e+00,\n",
       "         3.6144e+00,  1.0117e+01,  7.7682e+00,  5.0012e+00,  1.6322e+00,\n",
       "         5.5810e+00, -3.8671e+00,  4.1184e+00,  3.2522e+00,  7.3078e+00,\n",
       "         4.9692e+00, -1.6702e+00,  3.5118e+00,  4.1681e+00,  5.1058e+00,\n",
       "         4.0941e+00,  3.7637e+00,  1.0751e+01,  5.2023e+00,  4.5831e+00,\n",
       "         8.3800e+00,  1.3051e+00,  5.0379e+00,  3.8225e+00,  8.6472e+00,\n",
       "         4.2757e+00,  2.2804e+00,  3.8450e+00,  1.9626e+00,  6.8273e-01,\n",
       "         9.2582e+00,  7.7979e+00,  4.9215e+00, -5.1886e-02,  7.2442e+00,\n",
       "         6.4858e+00,  5.9373e+00,  1.9979e+00,  2.8319e+00,  4.3944e+00,\n",
       "         7.2632e+00,  7.4537e+00,  7.0861e+00,  1.8724e+00, -1.8746e-01,\n",
       "         4.7368e+00,  5.1234e+00,  5.0889e+00,  2.8284e+00,  3.3537e+00,\n",
       "         7.9227e+00,  3.0087e+00,  7.5137e+00,  1.0283e+01,  4.0365e+00,\n",
       "         1.3052e+00,  5.5565e+00,  9.2816e+00,  1.1967e+00,  8.3056e+00,\n",
       "         1.8038e+00,  4.8537e+00,  3.1720e+00,  1.0002e+01,  5.5853e+00,\n",
       "         1.1806e+01,  9.5930e+00,  6.0803e+00,  3.3464e+00,  3.6417e+00,\n",
       "         7.7302e+00,  5.8736e+00,  1.0501e+01,  1.9604e+00, -3.6708e+00,\n",
       "         8.2823e+00,  9.7706e+00,  4.5795e+00,  4.0647e+00,  5.0645e+00,\n",
       "         1.0511e+01,  8.4786e+00,  5.4756e+00,  5.2134e+00,  1.6158e+00,\n",
       "         6.7318e+00,  9.9397e+00,  2.3318e+00,  9.6673e-01,  5.9720e+00,\n",
       "         2.6213e+00,  1.8516e+00,  6.0208e+00,  1.4008e+01,  8.1174e+00,\n",
       "         4.2119e+00,  5.2862e+00,  9.8743e+00,  1.3790e+01,  6.2335e+00,\n",
       "         8.1241e+00,  4.1728e+00,  5.1779e+00, -2.8644e-01,  1.2743e+01,\n",
       "         1.9322e+00,  2.8288e+00,  5.0780e+00,  3.9279e+00,  5.7501e+00,\n",
       "         2.8667e+00, -5.0021e-02,  6.1348e+00,  8.4862e+00,  1.3198e+01,\n",
       "         8.5133e-01,  4.1218e+00,  9.7124e+00, -1.3621e-01,  2.3897e+00,\n",
       "         5.5757e+00,  1.4560e+01,  3.3327e+00,  5.4609e+00,  4.4687e+00,\n",
       "         4.9191e+00,  3.7048e+00,  2.0000e+00,  1.8577e-01, -5.1796e+00,\n",
       "         1.7286e+00,  5.0759e+00, -1.3478e+00,  1.6852e+00,  3.9890e+00,\n",
       "         8.0959e+00,  1.2763e+00,  2.7261e+00,  6.7759e+00,  5.5491e+00,\n",
       "         2.0872e+00,  7.2783e+00,  4.6168e+00,  3.8751e+00,  8.9186e+00,\n",
       "         5.3243e+00,  7.4870e+00,  3.1716e+00,  7.7476e+00,  8.2050e+00,\n",
       "         2.9779e+00,  1.2326e+01,  6.5082e+00,  3.4456e+00,  6.2169e+00,\n",
       "         6.5157e+00,  7.9988e+00,  5.5176e+00,  5.6646e+00,  4.5016e+00,\n",
       "         5.5167e+00,  1.2639e+00,  2.3720e+00,  5.4298e+00,  8.9746e-01,\n",
       "         3.6622e+00,  6.9720e-01,  6.1874e+00,  4.5802e+00,  3.5769e+00,\n",
       "         4.5013e+00,  7.1906e+00,  6.5414e+00,  2.1219e+00,  2.2932e+00,\n",
       "         9.2069e+00,  4.4751e+00,  3.1377e+00,  7.7582e+00,  5.1710e+00,\n",
       "         1.2495e+00,  6.7345e+00,  9.4027e+00,  8.0138e+00,  2.0896e+00,\n",
       "         1.1485e+01,  8.5392e-01,  4.4001e+00,  1.1414e+01, -2.2614e-01,\n",
       "         2.6564e+00,  8.8342e+00,  2.9786e+00,  3.1065e+00,  3.7913e+00,\n",
       "         3.4390e+00,  2.2217e+00,  4.6218e+00,  5.7962e+00,  6.2371e+00,\n",
       "         9.7239e+00,  5.1036e+00,  7.0563e+00,  1.4198e+00,  6.9506e+00,\n",
       "         2.0360e+00,  2.1140e+00,  4.5727e+00,  1.9186e+00,  5.0522e+00,\n",
       "         4.7812e+00,  1.0497e+01,  4.1773e-01, -2.1733e+00,  4.8991e+00,\n",
       "         7.8433e+00, -3.5145e-01,  2.4491e+00,  3.5300e+00,  1.1340e+00,\n",
       "         1.6736e+00,  8.7226e+00,  1.5424e+00,  9.5356e+00,  1.0797e+01,\n",
       "         7.0273e+00, -1.3618e-02,  5.2555e+00,  6.5819e+00,  8.2289e+00,\n",
       "         6.7608e+00,  7.9710e+00,  2.0258e+00,  4.4410e-03, -2.6037e+00,\n",
       "         4.8963e-01,  7.0360e+00, -1.3933e+00,  2.9218e+00,  4.9861e+00,\n",
       "         4.6436e+00,  1.3106e+00,  2.3450e+00,  7.7522e+00,  1.0154e+00,\n",
       "         1.0970e+01,  1.3608e+00,  4.4829e+00,  6.5895e+00,  8.7040e+00,\n",
       "        -1.3226e-01,  2.0337e+00,  1.1325e+01,  4.2742e+00,  1.2655e+00,\n",
       "         1.1652e+00,  9.7166e+00,  3.3549e-01,  7.9477e+00,  4.1330e+00,\n",
       "         3.8228e+00,  4.6245e+00, -9.3814e-02,  4.4395e+00,  9.2019e+00,\n",
       "         1.5268e+00,  1.3623e+00,  7.9576e+00,  3.8858e+00,  2.3473e+00,\n",
       "         6.4235e+00,  3.5424e+00,  3.5446e+00,  7.1514e+00,  9.5355e-01,\n",
       "         8.2372e+00,  2.3554e+00,  3.9680e+00,  4.9025e+00,  3.9221e+00,\n",
       "         7.6374e+00,  1.6848e-01,  1.4752e+01,  6.6901e+00,  6.7477e+00,\n",
       "         3.6307e+00,  6.8692e+00,  2.3351e+00,  2.7671e+00,  3.6981e+00,\n",
       "         1.5364e-01,  1.3819e+00,  1.0795e+01,  3.5038e+00,  4.8268e+00,\n",
       "         2.5072e+00,  8.3422e-01,  5.6318e+00,  2.6469e+00, -7.6947e-01,\n",
       "         3.6344e+00,  3.2630e+00,  7.0788e+00,  8.2577e+00,  3.7988e+00,\n",
       "         1.1202e+01,  1.8807e+00,  5.9421e+00,  6.7917e-01,  1.1546e+01,\n",
       "         1.1914e+00, -1.2126e-01,  1.9573e+00,  6.8314e+00, -2.5590e-01,\n",
       "         8.5666e+00,  1.2022e+01,  3.7363e+00,  4.5402e+00,  2.0297e+00,\n",
       "         3.3695e+00, -3.6273e+00,  5.0178e+00,  1.9457e+00,  5.1496e+00,\n",
       "         5.2645e+00,  6.4229e+00,  3.0161e+00,  4.4056e+00,  6.1415e+00,\n",
       "         3.7086e+00,  5.2598e+00,  9.8804e+00,  5.9774e-01,  3.7676e+00,\n",
       "         4.0571e+00,  3.4173e+00,  1.6738e+00,  4.8938e-01,  9.4443e+00,\n",
       "         6.0352e+00,  7.7565e+00,  7.3031e+00,  8.1395e+00,  4.1949e+00,\n",
       "         6.2647e+00,  8.9820e+00,  8.9779e+00,  5.4776e+00, -4.2323e+00,\n",
       "         6.7066e+00,  1.2496e+00, -5.9739e-01,  1.0721e+00, -2.7715e-01,\n",
       "         1.3890e+00,  1.0370e+01,  9.7500e+00,  3.9565e+00,  2.2379e+00,\n",
       "         5.8411e+00,  7.7652e+00,  5.6198e+00,  9.1811e+00,  1.9589e+00,\n",
       "         4.8692e+00,  2.7771e+00,  5.7798e+00,  6.3164e+00,  6.2397e+00,\n",
       "         2.1967e+00,  7.5203e+00, -4.3392e+00,  6.9381e+00,  8.4911e+00,\n",
       "        -1.3753e+00,  2.2513e+00,  8.8462e+00,  8.9496e+00,  7.6025e+00,\n",
       "         3.9143e+00, -3.6987e-01,  4.1932e+00,  7.1758e+00,  9.4025e+00,\n",
       "         4.1558e+00,  7.4103e-01,  6.9799e+00,  3.9641e+00,  8.7376e+00,\n",
       "         1.1133e+01,  1.2004e+01, -1.6088e+00,  9.1580e+00,  1.6706e+00,\n",
       "         3.0946e+00,  2.9159e+00,  8.8934e+00,  2.1283e+00,  7.4397e+00,\n",
       "         1.0726e+01,  5.3339e+00,  3.3396e+00,  6.3810e+00,  2.5991e+00])"
      ]
     },
     "execution_count": 37,
     "metadata": {},
     "output_type": "execute_result"
    }
   ],
   "source": [
    "n = 500\n",
    "k = 3\n",
    "\n",
    "x = torch.randn(n, k)\n",
    "w_true = torch.Tensor((2., 3., -1.))\n",
    "b_true = torch.Tensor([5])\n",
    "y = torch.matmul(x, w_true) + b_true + 0.1 * torch.randn(n)\n",
    "y"
   ]
  },
  {
   "cell_type": "code",
   "execution_count": 38,
   "id": "8323e08d",
   "metadata": {},
   "outputs": [
    {
     "data": {
      "text/plain": [
       "<matplotlib.collections.PathCollection at 0x7fe6756e9a30>"
      ]
     },
     "execution_count": 38,
     "metadata": {},
     "output_type": "execute_result"
    },
    {
     "data": {
      "image/png": "[encoded data removed]",
      "text/plain": [
       "<Figure size 640x480 with 1 Axes>"
      ]
     },
     "metadata": {},
     "output_type": "display_data"
    }
   ],
   "source": [
    "import matplotlib.pyplot as plt\n",
    "\n",
    "plt.scatter(x.numpy()[:, 1], y.numpy())"
   ]
  },
  {
   "cell_type": "code",
   "execution_count": 39,
   "id": "22782b8f",
   "metadata": {},
   "outputs": [
    {
     "name": "stdout",
     "output_type": "stream",
     "text": [
      "tensor([ 1.9994,  3.0137, -0.9921], requires_grad=True) tensor([4.9951], requires_grad=True)\n"
     ]
    }
   ],
   "source": [
    "epoch = 100\n",
    "alpha = 0.001\n",
    "w = torch.randn(k, requires_grad=True)\n",
    "b = torch.randn(1, requires_grad=True)\n",
    "\n",
    "\n",
    "for i in range(epoch):\n",
    "    y_pred = torch.matmul(x, w) + b\n",
    "    loss = torch.square(y_pred - y).sum()\n",
    "    loss.backward()\n",
    "\n",
    "    with torch.no_grad():\n",
    "        w -= alpha * w.grad\n",
    "        b -= alpha * b.grad\n",
    "\n",
    "        w.grad = None\n",
    "        b.grad = None\n",
    "\n",
    "print(w, b)"
   ]
  },
  {
   "cell_type": "markdown",
   "id": "800c95a9",
   "metadata": {},
   "source": [
    "# Работа с torch.nn\n",
    "\n",
    "В `torch.nn` содержатся компоненты для создания нейросетей (слои, функции потерь, ...)."
   ]
  },
  {
   "cell_type": "code",
   "execution_count": 1,
   "id": "52a3b629",
   "metadata": {},
   "outputs": [],
   "source": [
    "import torch.nn as nn"
   ]
  },
  {
   "cell_type": "markdown",
   "id": "6b62a076",
   "metadata": {},
   "source": [
    "Линейный слой:"
   ]
  },
  {
   "cell_type": "code",
   "execution_count": 4,
   "id": "354bd4fb",
   "metadata": {},
   "outputs": [
    {
     "name": "stdout",
     "output_type": "stream",
     "text": [
      "tensor([[ 0.2573, -0.0836, -0.3387],\n",
      "        [ 0.5801, -0.1763, -0.4354]], grad_fn=<AddmmBackward0>)\n"
     ]
    }
   ],
   "source": [
    "layer = nn.Linear(5, 3)\n",
    "print(layer(torch.randn(2, 5)))"
   ]
  },
  {
   "cell_type": "markdown",
   "id": "f54c02cc",
   "metadata": {},
   "source": [
    "Функция активации `ReLU`:"
   ]
  },
  {
   "cell_type": "code",
   "execution_count": 5,
   "id": "4e670b12",
   "metadata": {},
   "outputs": [
    {
     "name": "stdout",
     "output_type": "stream",
     "text": [
      "tensor([[0., 1., 2., 3., 0.]])\n"
     ]
    }
   ],
   "source": [
    "layer = nn.ReLU()\n",
    "print(layer(torch.tensor([[-1.0, 1.0, 2.0, 3.0, -5.0]])))"
   ]
  },
  {
   "cell_type": "markdown",
   "id": "41cb32a0",
   "metadata": {},
   "source": [
    "Слой `Dropout`:"
   ]
  },
  {
   "cell_type": "code",
   "execution_count": 6,
   "id": "8f9a3439",
   "metadata": {},
   "outputs": [
    {
     "name": "stdout",
     "output_type": "stream",
     "text": [
      "tensor([[20.,  0.,  0.,  0.,  0.,  0.,  0.,  0., 36.,  0.,  0.]])\n"
     ]
    }
   ],
   "source": [
    "layer = nn.Dropout(0.5)\n",
    "print(layer(torch.tensor([[10, 11, 12, 13, 14, 15, 16, 17, 18, 19, 20]], dtype=torch.float)))"
   ]
  },
  {
   "cell_type": "markdown",
   "id": "6f50c93b",
   "metadata": {},
   "source": [
    "Объединяем всё в один пайплайн:"
   ]
  },
  {
   "cell_type": "code",
   "execution_count": 7,
   "id": "ba774f61",
   "metadata": {},
   "outputs": [
    {
     "name": "stdout",
     "output_type": "stream",
     "text": [
      "tensor([[0.0000, 0.0000, 0.0000],\n",
      "        [1.5080, 1.9621, 3.4101]], grad_fn=<MulBackward0>)\n"
     ]
    }
   ],
   "source": [
    "layer = nn.Sequential(\n",
    "    nn.Linear(5, 3),\n",
    "    nn.ReLU(),\n",
    "    nn.Dropout(0.5)\n",
    ")\n",
    "print(layer(torch.randn((2, 5))))"
   ]
  },
  {
   "cell_type": "markdown",
   "id": "a9cc0110",
   "metadata": {},
   "source": [
    "Реализовать свой модуль можно следующим образом:\n",
    "1) Создать производный от `nn.Module` класс.\n",
    "2) В методе `__init__` вызвать этот же метод базового класса и определить необходимые элементы.\n",
    "3) Определить метод `forward` (вычисление итогового результата).\n",
    "\n",
    "Для примера создадим простую нейросеть, решающую задачу регрессии."
   ]
  },
  {
   "cell_type": "code",
   "execution_count": 22,
   "id": "fb9e147e",
   "metadata": {},
   "outputs": [],
   "source": [
    "class RegressionModel(nn.Module):\n",
    "    def __init__(self, n_inputs):\n",
    "        super().__init__()\n",
    "        self.model = nn.Sequential(\n",
    "            nn.Linear(n_inputs, 128),\n",
    "            nn.ReLU(),\n",
    "            nn.Dropout(0.5),\n",
    "            nn.Linear(128, 64),\n",
    "            nn.ReLU(),\n",
    "            nn.Dropout(0.5),\n",
    "            nn.Linear(64, 1)\n",
    "        )\n",
    "        \n",
    "    def forward(self, x):\n",
    "        return self.model(x)"
   ]
  },
  {
   "cell_type": "markdown",
   "id": "5f5bd5b0",
   "metadata": {},
   "source": [
    "Создаем нейросеть со случайно инициализированными весами:"
   ]
  },
  {
   "cell_type": "code",
   "execution_count": 23,
   "id": "1a7c4080",
   "metadata": {},
   "outputs": [
    {
     "name": "stdout",
     "output_type": "stream",
     "text": [
      "RegressionModel(\n",
      "  (model): Sequential(\n",
      "    (0): Linear(in_features=3, out_features=128, bias=True)\n",
      "    (1): ReLU()\n",
      "    (2): Dropout(p=0.5, inplace=False)\n",
      "    (3): Linear(in_features=128, out_features=64, bias=True)\n",
      "    (4): ReLU()\n",
      "    (5): Dropout(p=0.5, inplace=False)\n",
      "    (6): Linear(in_features=64, out_features=1, bias=True)\n",
      "  )\n",
      ")\n"
     ]
    }
   ],
   "source": [
    "model = RegressionModel(n_inputs=3)\n",
    "print(model)"
   ]
  },
  {
   "cell_type": "markdown",
   "id": "761daf51",
   "metadata": {},
   "source": [
    "Применяем нейросеть к случайным входам:"
   ]
  },
  {
   "cell_type": "code",
   "execution_count": 24,
   "id": "ed9afc38",
   "metadata": {},
   "outputs": [
    {
     "name": "stdout",
     "output_type": "stream",
     "text": [
      "tensor([[ 0.7296, -1.0454,  0.3090],\n",
      "        [-0.0658, -2.6463,  0.0316],\n",
      "        [-1.2068, -0.7984,  0.1559],\n",
      "        [ 0.1014,  0.8599, -0.2338],\n",
      "        [-0.2025, -2.0276, -0.1365],\n",
      "        [-0.2919, -1.2316, -0.4288],\n",
      "        [ 0.4845, -0.4794, -0.9179],\n",
      "        [ 0.4688,  1.5129, -0.9368],\n",
      "        [-1.8604,  0.1776,  0.0824],\n",
      "        [ 2.3129, -0.6474,  1.0686],\n",
      "        [ 1.2149,  1.8274,  0.2876],\n",
      "        [-0.8707, -1.7481, -1.0510],\n",
      "        [-1.1926, -0.8679,  1.2396],\n",
      "        [-0.4897,  1.4089, -0.3457],\n",
      "        [-1.5498, -0.5194, -0.6987],\n",
      "        [ 0.3743,  0.3216, -0.3111]])\n",
      "tensor([[ 0.0685],\n",
      "        [ 0.1969],\n",
      "        [ 0.1694],\n",
      "        [-0.0987],\n",
      "        [ 0.1148],\n",
      "        [-0.0526],\n",
      "        [-0.0934],\n",
      "        [ 0.2322],\n",
      "        [ 0.4933],\n",
      "        [-0.1228],\n",
      "        [ 0.3234],\n",
      "        [ 0.3106],\n",
      "        [ 0.2716],\n",
      "        [ 0.2951],\n",
      "        [ 0.1271],\n",
      "        [ 0.1640]], grad_fn=<AddmmBackward0>)\n"
     ]
    }
   ],
   "source": [
    "inputs = torch.randn((16, 3))\n",
    "outputs = model(inputs)\n",
    "print(inputs)\n",
    "print(outputs)"
   ]
  },
  {
   "cell_type": "markdown",
   "id": "78537bae",
   "metadata": {},
   "source": [
    "### Упражнение\n",
    "\n",
    "Реализовать нейросеть, которая решает многоклассовую задачу классификации."
   ]
  },
  {
   "cell_type": "code",
   "execution_count": null,
   "id": "b73ef4fd",
   "metadata": {},
   "outputs": [],
   "source": [
    "class ClassificationModel(nn.Module):\n",
    "    def __init__(self, n_inputs, n_outputs):\n",
    "        <YOUR CODE HERE>\n",
    "\n",
    "    def forward(self, x):\n",
    "        return <YOUR CODE HERE>"
   ]
  },
  {
   "cell_type": "code",
   "execution_count": 40,
   "id": "9fba669c",
   "metadata": {},
   "outputs": [],
   "source": [
    "class ClassificationModel(nn.Module):\n",
    "    def __init__(self, n_inputs, n_outputs):\n",
    "        super().__init__()\n",
    "        self.model = nn.Sequential(\n",
    "            nn.Linear(n_inputs, 128),\n",
    "            nn.ReLU(),\n",
    "            nn.Dropout(0.5),\n",
    "            nn.Linear(128, 64),\n",
    "            nn.ReLU(),\n",
    "            nn.Dropout(0.5),\n",
    "            nn.Linear(64, n_outputs),\n",
    "            nn.Softmax(1)\n",
    "        )\n",
    "\n",
    "    def forward(self, x):\n",
    "        output = self.model(x)\n",
    "        return torch.argmax(output, dim=1)"
   ]
  },
  {
   "cell_type": "code",
   "execution_count": 41,
   "id": "b4abd5a4",
   "metadata": {},
   "outputs": [
    {
     "name": "stdout",
     "output_type": "stream",
     "text": [
      "ClassificationModel(\n",
      "  (model): Sequential(\n",
      "    (0): Linear(in_features=3, out_features=128, bias=True)\n",
      "    (1): ReLU()\n",
      "    (2): Dropout(p=0.5, inplace=False)\n",
      "    (3): Linear(in_features=128, out_features=64, bias=True)\n",
      "    (4): ReLU()\n",
      "    (5): Dropout(p=0.5, inplace=False)\n",
      "    (6): Linear(in_features=64, out_features=5, bias=True)\n",
      "    (7): Softmax(dim=1)\n",
      "  )\n",
      ")\n"
     ]
    }
   ],
   "source": [
    "model = ClassificationModel(n_inputs=3, n_outputs=5)\n",
    "print(model)"
   ]
  },
  {
   "cell_type": "code",
   "execution_count": 42,
   "id": "206e9def",
   "metadata": {},
   "outputs": [
    {
     "name": "stdout",
     "output_type": "stream",
     "text": [
      "tensor([[-3.9251e-01, -1.5750e-01,  1.1435e-01],\n",
      "        [ 6.3960e-02,  1.2089e+00,  8.7132e-01],\n",
      "        [ 4.3635e-02,  3.1442e-01,  1.4202e+00],\n",
      "        [-4.8639e-01,  4.7162e-01, -1.6103e+00],\n",
      "        [ 3.1659e-01,  4.2536e-01, -9.9304e-01],\n",
      "        [-9.6374e-01,  1.5796e-03, -5.6990e-01],\n",
      "        [-8.9422e-01,  3.2423e-01, -1.2441e+00],\n",
      "        [-2.3032e-01,  1.8327e+00, -1.4124e+00],\n",
      "        [ 5.0953e-01, -5.0468e-01, -4.7310e-01],\n",
      "        [-8.3333e-01, -2.0512e+00, -1.3248e+00],\n",
      "        [ 1.6484e-01,  1.2144e+00,  5.6695e-01],\n",
      "        [-2.0950e-01, -1.1966e+00, -1.8043e+00],\n",
      "        [-5.2087e-01, -7.8527e-01,  1.7400e-01],\n",
      "        [ 1.0820e+00,  8.0497e-01,  2.6664e-01],\n",
      "        [ 7.7500e-01, -2.7228e-01, -4.9975e-01],\n",
      "        [-1.3174e+00,  1.1234e-01,  9.2566e-01]])\n",
      "tensor([1, 2, 2, 0, 1, 1, 1, 0, 0, 1, 3, 0, 1, 0, 2, 3])\n"
     ]
    }
   ],
   "source": [
    "inputs = torch.randn((16, 3))\n",
    "outputs = model(inputs)\n",
    "print(inputs)\n",
    "print(outputs)"
   ]
  },
  {
   "cell_type": "markdown",
   "id": "4632edc5",
   "metadata": {},
   "source": [
    "# Работа с данными"
   ]
  },
  {
   "cell_type": "code",
   "execution_count": 11,
   "id": "97c359c6",
   "metadata": {},
   "outputs": [],
   "source": [
    "import pandas as pd\n",
    "import numpy as np"
   ]
  },
  {
   "cell_type": "markdown",
   "id": "130a5928",
   "metadata": {},
   "source": [
    "Загрузим классический датасет [\"Ирисы Фишера\"](https://en.wikipedia.org/wiki/Iris_flower_data_set)"
   ]
  },
  {
   "cell_type": "code",
   "execution_count": 12,
   "id": "81d0cbe1",
   "metadata": {
    "scrolled": true
   },
   "outputs": [
    {
     "data": {
      "application/vnd.microsoft.datawrangler.viewer.v0+json": {
       "columns": [
        {
         "name": "index",
         "rawType": "int64",
         "type": "integer"
        },
        {
         "name": "Id",
         "rawType": "int64",
         "type": "integer"
        },
        {
         "name": "SepalLengthCm",
         "rawType": "float64",
         "type": "float"
        },
        {
         "name": "SepalWidthCm",
         "rawType": "float64",
         "type": "float"
        },
        {
         "name": "PetalLengthCm",
         "rawType": "float64",
         "type": "float"
        },
        {
         "name": "PetalWidthCm",
         "rawType": "float64",
         "type": "float"
        },
        {
         "name": "Species",
         "rawType": "object",
         "type": "string"
        }
       ],
       "ref": "a30018b0-c819-4236-92ca-3cf279cfef83",
       "rows": [
        [
         "0",
         "74",
         "6.1",
         "2.8",
         "4.7",
         "1.2",
         "Iris-versicolor"
        ],
        [
         "1",
         "19",
         "5.7",
         "3.8",
         "1.7",
         "0.3",
         "Iris-setosa"
        ],
        [
         "2",
         "119",
         "7.7",
         "2.6",
         "6.9",
         "2.3",
         "Iris-virginica"
        ],
        [
         "3",
         "79",
         "6.0",
         "2.9",
         "4.5",
         "1.5",
         "Iris-versicolor"
        ],
        [
         "4",
         "77",
         "6.8",
         "2.8",
         "4.8",
         "1.4",
         "Iris-versicolor"
        ]
       ],
       "shape": {
        "columns": 6,
        "rows": 5
       }
      },
      "text/html": [
       "<div>\n",
       "<style scoped>\n",
       "    .dataframe tbody tr th:only-of-type {\n",
       "        vertical-align: middle;\n",
       "    }\n",
       "\n",
       "    .dataframe tbody tr th {\n",
       "        vertical-align: top;\n",
       "    }\n",
       "\n",
       "    .dataframe thead th {\n",
       "        text-align: right;\n",
       "    }\n",
       "</style>\n",
       "<table border=\"1\" class=\"dataframe\">\n",
       "  <thead>\n",
       "    <tr style=\"text-align: right;\">\n",
       "      <th></th>\n",
       "      <th>Id</th>\n",
       "      <th>SepalLengthCm</th>\n",
       "      <th>SepalWidthCm</th>\n",
       "      <th>PetalLengthCm</th>\n",
       "      <th>PetalWidthCm</th>\n",
       "      <th>Species</th>\n",
       "    </tr>\n",
       "  </thead>\n",
       "  <tbody>\n",
       "    <tr>\n",
       "      <th>0</th>\n",
       "      <td>74</td>\n",
       "      <td>6.1</td>\n",
       "      <td>2.8</td>\n",
       "      <td>4.7</td>\n",
       "      <td>1.2</td>\n",
       "      <td>Iris-versicolor</td>\n",
       "    </tr>\n",
       "    <tr>\n",
       "      <th>1</th>\n",
       "      <td>19</td>\n",
       "      <td>5.7</td>\n",
       "      <td>3.8</td>\n",
       "      <td>1.7</td>\n",
       "      <td>0.3</td>\n",
       "      <td>Iris-setosa</td>\n",
       "    </tr>\n",
       "    <tr>\n",
       "      <th>2</th>\n",
       "      <td>119</td>\n",
       "      <td>7.7</td>\n",
       "      <td>2.6</td>\n",
       "      <td>6.9</td>\n",
       "      <td>2.3</td>\n",
       "      <td>Iris-virginica</td>\n",
       "    </tr>\n",
       "    <tr>\n",
       "      <th>3</th>\n",
       "      <td>79</td>\n",
       "      <td>6.0</td>\n",
       "      <td>2.9</td>\n",
       "      <td>4.5</td>\n",
       "      <td>1.5</td>\n",
       "      <td>Iris-versicolor</td>\n",
       "    </tr>\n",
       "    <tr>\n",
       "      <th>4</th>\n",
       "      <td>77</td>\n",
       "      <td>6.8</td>\n",
       "      <td>2.8</td>\n",
       "      <td>4.8</td>\n",
       "      <td>1.4</td>\n",
       "      <td>Iris-versicolor</td>\n",
       "    </tr>\n",
       "  </tbody>\n",
       "</table>\n",
       "</div>"
      ],
      "text/plain": [
       "    Id  SepalLengthCm  SepalWidthCm  PetalLengthCm  PetalWidthCm  \\\n",
       "0   74            6.1           2.8            4.7           1.2   \n",
       "1   19            5.7           3.8            1.7           0.3   \n",
       "2  119            7.7           2.6            6.9           2.3   \n",
       "3   79            6.0           2.9            4.5           1.5   \n",
       "4   77            6.8           2.8            4.8           1.4   \n",
       "\n",
       "           Species  \n",
       "0  Iris-versicolor  \n",
       "1      Iris-setosa  \n",
       "2   Iris-virginica  \n",
       "3  Iris-versicolor  \n",
       "4  Iris-versicolor  "
      ]
     },
     "execution_count": 12,
     "metadata": {},
     "output_type": "execute_result"
    }
   ],
   "source": [
    "df = pd.read_csv('data/Iris.csv').sample(frac=1, random_state=42, ignore_index=True)\n",
    "df.head()"
   ]
  },
  {
   "cell_type": "markdown",
   "id": "2cd81c40",
   "metadata": {},
   "source": [
    "Размеры датасета:"
   ]
  },
  {
   "cell_type": "code",
   "execution_count": 13,
   "id": "4b2fd6c1",
   "metadata": {
    "scrolled": true
   },
   "outputs": [
    {
     "name": "stdout",
     "output_type": "stream",
     "text": [
      "(150, 6)\n"
     ]
    }
   ],
   "source": [
    "print(df.shape)"
   ]
  },
  {
   "cell_type": "markdown",
   "id": "b11de8e0",
   "metadata": {},
   "source": [
    "Распределение классов:"
   ]
  },
  {
   "cell_type": "code",
   "execution_count": 14,
   "id": "b278aa84",
   "metadata": {},
   "outputs": [
    {
     "data": {
      "application/vnd.microsoft.datawrangler.viewer.v0+json": {
       "columns": [
        {
         "name": "Species",
         "rawType": "object",
         "type": "string"
        },
        {
         "name": "count",
         "rawType": "int64",
         "type": "integer"
        }
       ],
       "ref": "7392db6d-6c96-4daa-b5b5-6126228efcb1",
       "rows": [
        [
         "Iris-versicolor",
         "50"
        ],
        [
         "Iris-setosa",
         "50"
        ],
        [
         "Iris-virginica",
         "50"
        ]
       ],
       "shape": {
        "columns": 1,
        "rows": 3
       }
      },
      "text/plain": [
       "Species\n",
       "Iris-versicolor    50\n",
       "Iris-setosa        50\n",
       "Iris-virginica     50\n",
       "Name: count, dtype: int64"
      ]
     },
     "execution_count": 14,
     "metadata": {},
     "output_type": "execute_result"
    }
   ],
   "source": [
    "df['Species'].value_counts()"
   ]
  },
  {
   "cell_type": "markdown",
   "id": "5b026df9",
   "metadata": {},
   "source": [
    "Получим матрицу признаков `X` и вектор ответов `y`. При обучении мы можем оперировать только с числами, поэтому закодируем каждый класс числом (0, 1, 2)."
   ]
  },
  {
   "cell_type": "code",
   "execution_count": 15,
   "id": "d29a075c",
   "metadata": {},
   "outputs": [],
   "source": [
    "def preprocess(df):\n",
    "    X = df[['SepalLengthCm', 'SepalWidthCm', 'PetalLengthCm', 'PetalWidthCm']].values.astype(np.float32)\n",
    "    y = df['Species'].map({'Iris-setosa': 0, 'Iris-versicolor': 1, 'Iris-virginica': 2}).values\n",
    "    return X, y"
   ]
  },
  {
   "cell_type": "code",
   "execution_count": 16,
   "id": "e526dec1",
   "metadata": {},
   "outputs": [],
   "source": [
    "X, y = preprocess(df)\n",
    "X_train, y_train = X[:50], y[:50]\n",
    "X_valid, y_valid = X[50:100], y[50:100]\n",
    "X_test, y_test = X[100:150], y[100:150]"
   ]
  },
  {
   "cell_type": "code",
   "execution_count": 17,
   "id": "44018b9e",
   "metadata": {},
   "outputs": [
    {
     "name": "stdout",
     "output_type": "stream",
     "text": [
      "[6.1 2.8 4.7 1.2] 1\n"
     ]
    }
   ],
   "source": [
    "print(X[0], y[0])"
   ]
  },
  {
   "cell_type": "markdown",
   "id": "f475f951",
   "metadata": {},
   "source": [
    "Для того, чтобы удобно обучать нейросети с помощью PyTorch, в нем реализованы два класса работы с данными: `Dataset`, `DataLoader`."
   ]
  },
  {
   "cell_type": "code",
   "execution_count": 18,
   "id": "270b1650",
   "metadata": {},
   "outputs": [],
   "source": [
    "from torch.utils.data import Dataset, DataLoader"
   ]
  },
  {
   "cell_type": "markdown",
   "id": "2a9094fb",
   "metadata": {},
   "source": [
    "### Упражнение\n",
    "\n",
    "1) Создайте класс `MyDataset` -- потомок класс Dataset. \n",
    "2) Реализуйте метод `__getitem__`, который принимает индекс элемента и возвращает пару (x, y)\n",
    "3) Реализуйте медов `__len__`, который возвращает размер датасета"
   ]
  },
  {
   "cell_type": "code",
   "execution_count": null,
   "id": "41680ef6",
   "metadata": {},
   "outputs": [],
   "source": [
    "class MyDataset(Dataset):\n",
    "    def __init__(self, X, y):\n",
    "        self.X = X\n",
    "        self.y = y\n",
    "        \n",
    "    def __getitem__(self, idx):\n",
    "        return <YOUR CODE HERE>\n",
    "    \n",
    "    def __len__(self):\n",
    "        return <YOUR CODE HERE>"
   ]
  },
  {
   "cell_type": "code",
   "execution_count": null,
   "id": "ed668c15",
   "metadata": {},
   "outputs": [],
   "source": [
    "train_dataset = MyDataset(X_train, y_train)\n",
    "valid_dataset = MyDataset(X_valid, y_valid)\n",
    "test_dataset = MyDataset(X_test, y_test)"
   ]
  },
  {
   "cell_type": "markdown",
   "id": "d7b46432",
   "metadata": {},
   "source": [
    "Посмотрим, что можно делать с датасетами. Мы можем получить его размер с помощью len(...). Для этого мы реализовали метод `__len__`:"
   ]
  },
  {
   "cell_type": "code",
   "execution_count": null,
   "id": "dfded3b2",
   "metadata": {},
   "outputs": [],
   "source": [
    "print(len(train_dataset))"
   ]
  },
  {
   "cell_type": "markdown",
   "id": "d99ecd87",
   "metadata": {},
   "source": [
    "Мы также можем обращаться к массиву, используя различные виды индексирования:"
   ]
  },
  {
   "cell_type": "code",
   "execution_count": null,
   "id": "6a8104e2",
   "metadata": {},
   "outputs": [],
   "source": [
    "x, y = train_dataset[0]\n",
    "print(x, y)"
   ]
  },
  {
   "cell_type": "code",
   "execution_count": null,
   "id": "845d4699",
   "metadata": {},
   "outputs": [],
   "source": [
    "X_batch, y_batch = train_dataset[:5]\n",
    "print(X_batch)\n",
    "print(y_batch)"
   ]
  },
  {
   "cell_type": "code",
   "execution_count": null,
   "id": "0696b3a4",
   "metadata": {},
   "outputs": [],
   "source": [
    "X_batch, y_batch = train_dataset[[0, 2, 5]]\n",
    "print(X_batch)\n",
    "print(y_batch)"
   ]
  },
  {
   "cell_type": "markdown",
   "id": "267bf709",
   "metadata": {},
   "source": [
    "Класс `DataLoader` нужен для автоматического формирования батчей для заданного датасета. "
   ]
  },
  {
   "cell_type": "code",
   "execution_count": null,
   "id": "3d058945",
   "metadata": {},
   "outputs": [],
   "source": [
    "train_loader = DataLoader(train_dataset, batch_size=8, shuffle=True, drop_last=True)\n",
    "valid_loader = DataLoader(valid_dataset, batch_size=8, shuffle=True, drop_last=True)\n",
    "test_loader = DataLoader(test_dataset, batch_size=8, shuffle=True, drop_last=True)"
   ]
  },
  {
   "cell_type": "code",
   "execution_count": null,
   "id": "a153cd8d",
   "metadata": {},
   "outputs": [],
   "source": [
    "batches = [x for x in train_loader]\n",
    "print(len(batches))\n",
    "print(batches[0])\n",
    "print(batches[1])"
   ]
  },
  {
   "cell_type": "markdown",
   "id": "9b1436ba",
   "metadata": {},
   "source": [
    "# Обучение модели"
   ]
  },
  {
   "cell_type": "code",
   "execution_count": null,
   "id": "7290becd",
   "metadata": {},
   "outputs": [],
   "source": [
    "import random\n",
    "import numpy as np\n",
    "from tqdm import tqdm"
   ]
  },
  {
   "cell_type": "markdown",
   "id": "01230b1a",
   "metadata": {},
   "source": [
    "Сделаем эксперименты воспроизводимыми"
   ]
  },
  {
   "cell_type": "code",
   "execution_count": null,
   "id": "bec2cba8",
   "metadata": {},
   "outputs": [],
   "source": [
    "torch.manual_seed(42)\n",
    "np.random.seed(42)\n",
    "random.seed(42)"
   ]
  },
  {
   "cell_type": "markdown",
   "id": "11957c82",
   "metadata": {},
   "source": [
    "Зададим параметры обучения"
   ]
  },
  {
   "cell_type": "code",
   "execution_count": null,
   "id": "8ad28d8f",
   "metadata": {},
   "outputs": [],
   "source": [
    "# Количество эпох (полных проходов по датасету)\n",
    "n_epochs = 128\n",
    "\n",
    "# Размерность входа\n",
    "n_inputs = 4\n",
    "\n",
    "# Размерность выхода (кол-во классов)\n",
    "n_outputs = 3\n",
    "\n",
    "# Скорость обучения (learning rate)\n",
    "lr = 1e-3"
   ]
  },
  {
   "cell_type": "markdown",
   "id": "515dcba5",
   "metadata": {},
   "source": [
    "Инициализируем модель, функцию потерь и оптимизатор"
   ]
  },
  {
   "cell_type": "code",
   "execution_count": null,
   "id": "247f0da4",
   "metadata": {},
   "outputs": [],
   "source": [
    "model = ClassificationModel(n_inputs=n_inputs, n_outputs=n_outputs)\n",
    "loss_func = nn.CrossEntropyLoss()\n",
    "optimizer = torch.optim.Adam(params=model.parameters(), lr=lr)"
   ]
  },
  {
   "cell_type": "markdown",
   "id": "e081324a",
   "metadata": {},
   "source": [
    "Реализуем вычисление потерь на валидационном датасете"
   ]
  },
  {
   "cell_type": "code",
   "execution_count": null,
   "id": "905a9f32",
   "metadata": {},
   "outputs": [],
   "source": [
    "def compute_validation_loss(model, loader, loss_func):\n",
    "    loss = 0\n",
    "    # Используем нейросеть в режиме применения (отключаем Dropout, ...)\n",
    "    model.eval()\n",
    "    for x, y in loader:\n",
    "        # Нам не нужно вычислять градиенты, поэтому можно сэкономить память\n",
    "        with torch.no_grad():\n",
    "            logits = <YOUR CODE HERE>\n",
    "        loss += loss_func(<YOUR CODE HERE>).item() / len(loader)\n",
    "    return loss"
   ]
  },
  {
   "cell_type": "markdown",
   "id": "0de3c69b",
   "metadata": {},
   "source": [
    "Реализуем цикл обучения нейросети (внешний цикл по эпохам, а внутренний -- по батчам). В конце каждой эпохи будем считать потери на валидационном датасете."
   ]
  },
  {
   "cell_type": "code",
   "execution_count": null,
   "id": "1f870593",
   "metadata": {
    "scrolled": false
   },
   "outputs": [],
   "source": [
    "for i in range(1, n_epochs + 1):\n",
    "    print(f'Epoch {i}')\n",
    "    for x, y in tqdm(train_loader):\n",
    "        # Переводим модель в режим обучения (включаем Dropout, ...)\n",
    "        model.train()\n",
    "        logits = <YOUR CODE HERE>\n",
    "        loss = loss_func(<YOUR CODE HERE>)\n",
    "        # Сбрасываем градиенты (.backward() только прибавляет новые градиенты к текущим)\n",
    "        optimizer.zero_grad()\n",
    "        # Вычисляем градиенты\n",
    "        loss.backward()\n",
    "        # Обновляем параметры нейросети\n",
    "        optimizer.step()\n",
    "    # Считаем и выводим потери на валидационном датасете\n",
    "    eval_loss = compute_validation_loss(model, valid_loader, loss_func)\n",
    "    print(f'train_loss={loss.item()}, eval_loss={eval_loss}')"
   ]
  }
 ],
 "metadata": {
  "kernelspec": {
   "display_name": "Python 3",
   "language": "python",
   "name": "python3"
  },
  "language_info": {
   "codemirror_mode": {
    "name": "ipython",
    "version": 3
   },
   "file_extension": ".py",
   "mimetype": "text/x-python",
   "name": "python",
   "nbconvert_exporter": "python",
   "pygments_lexer": "ipython3",
   "version": "3.11.9"
  }
 },
 "nbformat": 4,
 "nbformat_minor": 5
}
